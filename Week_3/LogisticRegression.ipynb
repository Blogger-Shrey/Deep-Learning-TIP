{
 "cells": [
  {
   "cell_type": "markdown",
   "metadata": {},
   "source": [
    "# Importing Libraries"
   ]
  },
  {
   "cell_type": "code",
   "execution_count": 1,
   "metadata": {},
   "outputs": [],
   "source": [
    "import numpy as np\n",
    "import pandas as pd\n",
    "import matplotlib.pyplot as plt\n",
    "%matplotlib inline"
   ]
  },
  {
   "cell_type": "markdown",
   "metadata": {},
   "source": [
    "# Data Creation"
   ]
  },
  {
   "cell_type": "code",
   "execution_count": 2,
   "metadata": {},
   "outputs": [
    {
     "name": "stdout",
     "output_type": "stream",
     "text": [
      "(500, 2) (500, 2)\n"
     ]
    }
   ],
   "source": [
    "mean_01 = np.array([1, 0.5])\n",
    "cov_01 = np.array([[1, 0.1], [0.1, 1.2]])\n",
    "\n",
    "mean_02 = np.array([4, 5])\n",
    "cov_02 = np.array([[1, 0.1], [0.1, 1.2]])\n",
    "\n",
    "dist_01 = np.random.multivariate_normal(mean_01, cov_01, 500)\n",
    "dist_02 = np.random.multivariate_normal(mean_02, cov_02, 500)\n",
    "print(dist_01.shape, dist_02.shape)"
   ]
  },
  {
   "cell_type": "markdown",
   "metadata": {},
   "source": [
    "We have created two normal distributions with same covariance but different mean "
   ]
  },
  {
   "cell_type": "markdown",
   "metadata": {},
   "source": [
    "## Plotting the Data"
   ]
  },
  {
   "cell_type": "code",
   "execution_count": 3,
   "metadata": {},
   "outputs": [
    {
     "data": {
      "image/png": "[encoded data removed]",
      "text/plain": [
       "<Figure size 432x288 with 1 Axes>"
      ]
     },
     "metadata": {},
     "output_type": "display_data"
    }
   ],
   "source": [
    "plt.figure(0)\n",
    "plt.xlim(-5, 10)\n",
    "plt.ylim(-5, 10)\n",
    "\n",
    "plt.scatter(dist_01[:, 0], dist_01[:, 1])\n",
    "plt.scatter(dist_02[:, 0], dist_02[:, 1])#, color='red')\n",
    "plt.show()"
   ]
  },
  {
   "cell_type": "code",
   "execution_count": 4,
   "metadata": {},
   "outputs": [
    {
     "name": "stdout",
     "output_type": "stream",
     "text": [
      "(1000, 3)\n",
      "[2.54699523 2.71704327 0.5       ]\n"
     ]
    }
   ],
   "source": [
    "r = dist_01.shape[0] + dist_02.shape[0]\n",
    "c = dist_01.shape[1] + 1\n",
    "data = np.zeros((r, c))\n",
    "print(data.shape)\n",
    "\n",
    "data[:dist_01.shape[0], :2] = dist_01\n",
    "data[dist_01.shape[0]:, :2] = dist_02\n",
    "data[dist_01.shape[0]:, -1] = 1.0\n",
    "\n",
    "print(data.mean(axis=0))"
   ]
  },
  {
   "cell_type": "markdown",
   "metadata": {},
   "source": [
    "## Train and Test Data"
   ]
  },
  {
   "cell_type": "code",
   "execution_count": 5,
   "metadata": {},
   "outputs": [],
   "source": [
    "#Returns X_train, y_train, X_test, y_test\n",
    "def split_data(data, ratio=0.33):\n",
    "    np.random.shuffle(data)\n",
    "    X = [i[:-1] for i in data]\n",
    "    labels = [i[-1] for i in data]\n",
    "    num_train = int((1-ratio)*len(data))\n",
    "    return np.array(X[:num_train]), np.array(labels[:num_train]).reshape(num_train,1), np.array(X[num_train:]), np.array(labels[num_train:]).reshape((len(data)-num_train),1)"
   ]
  },
  {
   "cell_type": "markdown",
   "metadata": {},
   "source": [
    "# Model Creation"
   ]
  },
  {
   "cell_type": "code",
   "execution_count": 6,
   "metadata": {},
   "outputs": [],
   "source": [
    "#Initialize weights\n",
    "t0 = np.random.rand()\n",
    "t1 = np.random.rand()\n",
    "t2 = np.random.rand()\n",
    "theta = np.array([[t0],[t1],[t2]])\n",
    "# Shape of theta is (3,1)"
   ]
  },
  {
   "cell_type": "code",
   "execution_count": 7,
   "metadata": {},
   "outputs": [],
   "source": [
    "#Set Learning rate i.e. alpha\n",
    "lr = 0.1"
   ]
  },
  {
   "cell_type": "code",
   "execution_count": 8,
   "metadata": {},
   "outputs": [],
   "source": [
    "#Adding bias i.e. theta0 * 1 where 1 is bias\n",
    "def add_bias(X):\n",
    "    pass\n"
   ]
  },
  {
   "cell_type": "code",
   "execution_count": null,
   "metadata": {},
   "outputs": [],
   "source": [
    "#g = theta0 + theta1 * x1 + theta2 * x2\n",
    "def get_g(X,theta):\n",
    "    pass"
   ]
  },
  {
   "cell_type": "code",
   "execution_count": null,
   "metadata": {},
   "outputs": [],
   "source": [
    "#Sigmoid Function\n",
    "def sigmoid(g):\n",
    "    pass"
   ]
  },
  {
   "cell_type": "code",
   "execution_count": null,
   "metadata": {},
   "outputs": [],
   "source": [
    "#Predict Class\n",
    "def predict(X,theta):\n",
    "    pass"
   ]
  },
  {
   "cell_type": "code",
   "execution_count": null,
   "metadata": {},
   "outputs": [],
   "source": [
    "#Get Accuracy\n",
    "def get_acc(X,y,theta):\n",
    "    pass"
   ]
  },
  {
   "cell_type": "code",
   "execution_count": null,
   "metadata": {},
   "outputs": [],
   "source": [
    "#Loss Function\n",
    "def loss(h, y):\n",
    "    pass"
   ]
  },
  {
   "cell_type": "code",
   "execution_count": null,
   "metadata": {},
   "outputs": [],
   "source": [
    "#Get Gradient in same shape as theta\n",
    "def get_gradient(X,y,h):\n",
    "    pass"
   ]
  },
  {
   "cell_type": "code",
   "execution_count": null,
   "metadata": {},
   "outputs": [],
   "source": [
    "#Plot the graph\n",
    "def plot_graph(theta):\n",
    "    plt.figure(0)\n",
    "    plt.xlim(-5, 10)\n",
    "    plt.ylim(-5, 10)\n",
    "    \n",
    "    X = []\n",
    "    i = data.min(axis=0)[0]\n",
    "    while(i<data.max(axis=0)[1]):\n",
    "        X.append(i)\n",
    "        i=i+0.1\n",
    "        \n",
    "    Y = []\n",
    "    for i in X:\n",
    "        tmp = -1*theta[1]*i/theta[2] + -1*theta[0]/theta[2]\n",
    "        Y.append(tmp)\n",
    "        \n",
    "    plt.scatter(X,Y, color='k')\n",
    "    \n",
    "    plt.scatter(dist_01[:, 0], dist_01[:, 1])\n",
    "    plt.scatter(dist_02[:, 0], dist_02[:, 1])#, color='red')\n",
    "    plt.show()"
   ]
  },
  {
   "cell_type": "markdown",
   "metadata": {},
   "source": [
    "# Logistic Regression"
   ]
  },
  {
   "cell_type": "code",
   "execution_count": null,
   "metadata": {},
   "outputs": [],
   "source": [
    "#Split Dataset\n",
    "X_train, y_train, X_test, y_test = split_data(data)"
   ]
  },
  {
   "cell_type": "code",
   "execution_count": null,
   "metadata": {},
   "outputs": [],
   "source": [
    "#Add Bias\n",
    "X_train = add_bias(X_train)\n",
    "X_test = add_bias(X_test)"
   ]
  },
  {
   "cell_type": "code",
   "execution_count": null,
   "metadata": {},
   "outputs": [],
   "source": [
    "#Perform Logistic Regression \n",
    "def one_step(X,y,lr,theta):\n",
    "    \n",
    "    print(\"Loss = \" + str(loss(h,y)))\n",
    "    print(\"Train Accuracy = \"+ str(get_acc(X_train,y_train,theta)))\n",
    "    print(\"Test Accuracy = \" + str(get_acc(X_test,y_test,theta)))\n",
    "    print(\"theta = \")\n",
    "    print(theta)\n",
    "    return theta"
   ]
  },
  {
   "cell_type": "code",
   "execution_count": null,
   "metadata": {},
   "outputs": [],
   "source": [
    "#Do this in for loop for multiple steps\n",
    "theta = one_step(X_train,y_train,lr,theta)\n",
    "plot_graph(theta)"
   ]
  }
 ],
 "metadata": {
  "kernelspec": {
   "display_name": "Python 3",
   "language": "python",
   "name": "python3"
  },
  "language_info": {
   "codemirror_mode": {
    "name": "ipython",
    "version": 3
   },
   "file_extension": ".py",
   "mimetype": "text/x-python",
   "name": "python",
   "nbconvert_exporter": "python",
   "pygments_lexer": "ipython3",
   "version": "3.6.5"
  }
 },
 "nbformat": 4,
 "nbformat_minor": 2
}
